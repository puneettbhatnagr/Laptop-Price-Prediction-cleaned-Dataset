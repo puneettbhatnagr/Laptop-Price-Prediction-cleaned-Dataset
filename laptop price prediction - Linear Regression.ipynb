{
 "cells": [
  {
   "cell_type": "code",
   "execution_count": 1,
   "id": "ced96766",
   "metadata": {},
   "outputs": [],
   "source": [
    "# This Python 3 environment comes with many helpful analytics libraries installed\n",
    "# It is defined by the kaggle/python Docker image: https://github.com/kaggle/docker-python\n",
    "# For example, here's several helpful packages to load\n",
    "\n",
    "import numpy as np # linear algebra\n",
    "import pandas as pd # data processing, CSV file I/O (e.g. pd.read_csv)\n",
    "\n",
    "# Input data files are available in the read-only \"../input/\" directory\n",
    "# For example, running this (by clicking run or pressing Shift+Enter) will list all files under the input directory\n",
    "\n",
    "import os\n",
    "for dirname, _, filenames in os.walk('/kaggle/input'):\n",
    "    for filename in filenames:\n",
    "        print(os.path.join(dirname, filename))\n",
    "\n",
    "# You can write up to 20GB to the current directory (/kaggle/working/) that gets preserved as output when you create a version using \"Save & Run All\" \n",
    "# You can also write temporary files to /kaggle/temp/, but they won't be saved outside of the current session"
   ]
  },
  {
   "cell_type": "code",
   "execution_count": 2,
   "id": "fa314535",
   "metadata": {},
   "outputs": [],
   "source": [
    "# Reading and Understanding Dataset"
   ]
  },
  {
   "cell_type": "code",
   "execution_count": null,
   "id": "6a9ece1e",
   "metadata": {},
   "outputs": [],
   "source": [
    "import pandas as pd\n",
    "import numpy as np\n",
    "import seaborn as sns\n",
    "import matplotlib.pyplot as plt"
   ]
  },
  {
   "cell_type": "code",
   "execution_count": null,
   "id": "bf77b296",
   "metadata": {},
   "outputs": [],
   "source": [
    "df = pd.read_csv(\"/kaggle/input/laptop-price-prediction-cleaned-dataset/laptop_data_cleaned.csv\")\n",
    "df.head()"
   ]
  },
  {
   "cell_type": "code",
   "execution_count": null,
   "id": "5d2a7384",
   "metadata": {},
   "outputs": [],
   "source": [
    "# Shape of the dataset\n",
    "df.shape"
   ]
  },
  {
   "cell_type": "code",
   "execution_count": null,
   "id": "7c66c55a",
   "metadata": {},
   "outputs": [],
   "source": [
    "df.info()"
   ]
  },
  {
   "cell_type": "code",
   "execution_count": null,
   "id": "26a6d42f",
   "metadata": {},
   "outputs": [],
   "source": [
    "cat_cols = df.select_dtypes(include='object').columns.to_list()\n",
    "num_cols = df.select_dtypes(include='number').columns.to_list()\n",
    "cat_cols"
   ]
  },
  {
   "cell_type": "code",
   "execution_count": null,
   "id": "a90c1c3d",
   "metadata": {},
   "outputs": [],
   "source": [
    "num_cols"
   ]
  },
  {
   "cell_type": "code",
   "execution_count": null,
   "id": "f73ba429",
   "metadata": {},
   "outputs": [],
   "source": [
    "num_cols.remove('Price')"
   ]
  },
  {
   "cell_type": "code",
   "execution_count": null,
   "id": "69006466",
   "metadata": {},
   "outputs": [],
   "source": [
    "for col in cat_cols:\n",
    "    plt.figure(figsize=(10,5))\n",
    "    sns.countplot(df,x='Company')\n",
    "    plt.title(\"{} Distribution\".format(col))\n",
    "    plt.xticks(rotation=45)\n",
    "    plt.show()"
   ]
  },
  {
   "cell_type": "code",
   "execution_count": null,
   "id": "3733a2bd",
   "metadata": {},
   "outputs": [],
   "source": [
    "for col in num_cols:\n",
    "    plt.figure(figsize=(8,3))\n",
    "    sns.kdeplot(df,x=col)\n",
    "    plt.title(\"{} Distribution\".format(col))\n",
    "    plt.show()"
   ]
  },
  {
   "cell_type": "code",
   "execution_count": null,
   "id": "605298ba",
   "metadata": {},
   "outputs": [],
   "source": [
    "for col in cat_cols:\n",
    "    plt.figure(figsize=(10,5))\n",
    "    sns.boxplot(data=df,x=col,y=\"Price\")\n",
    "    plt.title(\"Price Distribution vs {}\".format(col))\n",
    "    plt.xticks(rotation=90)\n",
    "    plt.show()"
   ]
  },
  {
   "cell_type": "code",
   "execution_count": null,
   "id": "dca5b245",
   "metadata": {},
   "outputs": [],
   "source": [
    "for col in num_cols:\n",
    "    plt.figure(figsize=(10,5))\n",
    "    sns.scatterplot(data=df,x=col,y=\"Price\")\n",
    "    plt.title('Price vs {}'.format(col))\n",
    "    plt.show()"
   ]
  },
  {
   "cell_type": "code",
   "execution_count": null,
   "id": "8b3bb843",
   "metadata": {},
   "outputs": [],
   "source": [
    "from sklearn.model_selection import train_test_split\n",
    "from sklearn.preprocessing import MinMaxScaler,StandardScaler,OneHotEncoder\n",
    "from sklearn.linear_model import LinearRegression\n",
    "from sklearn.tree import DecisionTreeRegressor\n",
    "from sklearn.ensemble import RandomForestRegressor\n",
    "from sklearn.metrics import r2_score,accuracy_score\n",
    "from sklearn.compose import ColumnTransformer\n",
    "from sklearn.pipeline import Pipeline\n",
    "from sklearn.impute import SimpleImputer\n",
    "from sklearn.model_selection import cross_val_score\n",
    "from sklearn.model_selection import KFold"
   ]
  },
  {
   "cell_type": "code",
   "execution_count": null,
   "id": "820b1aeb",
   "metadata": {},
   "outputs": [],
   "source": [
    "X = df.drop('Price',axis=1)\n",
    "y = df['Price']"
   ]
  },
  {
   "cell_type": "code",
   "execution_count": null,
   "id": "66498eb7",
   "metadata": {},
   "outputs": [],
   "source": [
    "X_train, X_test, y_train, y_test = train_test_split(X,y,test_size=0.2,random_state=1)\n",
    "print('X_train shape :', X_train.shape)\n",
    "print('y_train shape :',y_train.shape)\n",
    "print('X_test shape :',X_test.shape)\n",
    "print('y_test shape :',y_test.shape)"
   ]
  },
  {
   "cell_type": "code",
   "execution_count": null,
   "id": "af01eaf3",
   "metadata": {},
   "outputs": [],
   "source": [
    "# Building categorical pipeline\n",
    "cat_pipe = Pipeline([\n",
    "    ('Imputer',SimpleImputer(strategy='most_frequent')),\n",
    "    ('OHE',OneHotEncoder(handle_unknown='ignore')),\n",
    "    ('Scaler',StandardScaler(with_mean=False))\n",
    "])"
   ]
  },
  {
   "cell_type": "code",
   "execution_count": null,
   "id": "89a7f286",
   "metadata": {},
   "outputs": [],
   "source": [
    "# Building numerical pipeline\n",
    "num_pipe = Pipeline([\n",
    "    ('Imputer',SimpleImputer(strategy='median')),\n",
    "    ('Scaler',StandardScaler())\n",
    "])"
   ]
  },
  {
   "cell_type": "code",
   "execution_count": null,
   "id": "28ec5b45",
   "metadata": {},
   "outputs": [],
   "source": [
    "# Combining both pipeline\n",
    "preprocessor = ColumnTransformer([\n",
    "    ('Categorical_Pipeline',cat_pipe,cat_cols),\n",
    "    ('Numerical_Pipeline',num_pipe,num_cols)\n",
    "])"
   ]
  },
  {
   "cell_type": "code",
   "execution_count": null,
   "id": "7b0a708c",
   "metadata": {},
   "outputs": [],
   "source": [
    "# Instastiate Linear Regression model\n",
    "lr = LinearRegression()"
   ]
  },
  {
   "cell_type": "code",
   "execution_count": null,
   "id": "3ef6b986",
   "metadata": {},
   "outputs": [],
   "source": [
    "# Create the final pipeline with the estimator (regressor)\n",
    "pipeline = Pipeline([\n",
    "    ('Preprocessor',preprocessor),\n",
    "    ('Regressor',lr)\n",
    "])"
   ]
  },
  {
   "cell_type": "code",
   "execution_count": null,
   "id": "5ac0a291",
   "metadata": {},
   "outputs": [],
   "source": [
    "cv = KFold(n_splits=10, shuffle=True, random_state=1)\n",
    "# evaluate the pipeline using cross validation and calculate MAE\n",
    "scores = cross_val_score(pipeline, X_train, y_train, scoring='r2', cv=cv, n_jobs=-1)\n",
    "# summarize the model performance\n",
    "print('Mean R2 Score:', round(np.mean(scores),2))"
   ]
  },
  {
   "cell_type": "code",
   "execution_count": null,
   "id": "5dd4bbb9",
   "metadata": {},
   "outputs": [],
   "source": [
    "# Fit the pipeline to the training data\n",
    "pipeline.fit(X = X_train, y = y_train)"
   ]
  },
  {
   "cell_type": "code",
   "execution_count": null,
   "id": "5d8ac256",
   "metadata": {},
   "outputs": [],
   "source": [
    "y_train_pred = pipeline.predict(X_train)"
   ]
  },
  {
   "cell_type": "code",
   "execution_count": null,
   "id": "c31a30a5",
   "metadata": {},
   "outputs": [],
   "source": [
    "# r2 Score on training dataset\n",
    "r2_score(y_train,y_train_pred)"
   ]
  },
  {
   "cell_type": "code",
   "execution_count": null,
   "id": "c140c551",
   "metadata": {},
   "outputs": [],
   "source": [
    "# r2 Score on test dataset\n",
    "y_test_pred = pipeline.predict(X_test)\n",
    "r2_score(y_test,y_test_pred)"
   ]
  },
  {
   "cell_type": "code",
   "execution_count": null,
   "id": "7cf3bf3f",
   "metadata": {},
   "outputs": [],
   "source": [
    "# Define a function to train different algorithms\n",
    "def train_model(model):\n",
    "    model_name = model.__class__.__name__\n",
    "    print(model_name)\n",
    "    \n",
    "    pipeline = Pipeline([\n",
    "        ('Preprocessor',preprocessor),    \n",
    "        ('Regressor',model)\n",
    "    ])\n",
    "        \n",
    "    # # Fit the pipeline to the training data\n",
    "    pipeline.fit(X = X_train, y = y_train)\n",
    "    \n",
    "    y_train_pred = pipeline.predict(X_train)\n",
    "    \n",
    "    # r2 Score on training dataset\n",
    "    r2_score_training = r2_score(y_train,y_train_pred)\n",
    "    \n",
    "    # r2 Score on test dataset\n",
    "    y_test_pred = pipeline.predict(X_test)\n",
    "    r2_score_testing = r2_score(y_test,y_test_pred)\n",
    "    \n",
    "    print(\"Train R2 Score : \",r2_score_training)\n",
    "    print(\"Test R2 Score : \",r2_score_testing)"
   ]
  },
  {
   "cell_type": "code",
   "execution_count": null,
   "id": "4232a96f",
   "metadata": {},
   "outputs": [],
   "source": [
    "#Linear Regression model\n",
    "train_model(lr)"
   ]
  },
  {
   "cell_type": "code",
   "execution_count": null,
   "id": "e36b6086",
   "metadata": {},
   "outputs": [],
   "source": [
    "# Lets train Decision tree regrssor\n",
    "dt = DecisionTreeRegressor(max_depth=4)\n",
    "train_model(dt)"
   ]
  },
  {
   "cell_type": "code",
   "execution_count": null,
   "id": "218ff67c",
   "metadata": {},
   "outputs": [],
   "source": [
    "# Random Forest\n",
    "rf = RandomForestRegressor(n_estimators=200,max_depth=3)\n",
    "train_model(rf)"
   ]
  },
  {
   "cell_type": "code",
   "execution_count": null,
   "id": "a7d3176a",
   "metadata": {},
   "outputs": [],
   "source": [
    "def train_cross_val(model,n):\n",
    "    \n",
    "    model_name = model.__class__.__name__\n",
    "    print(model_name)\n",
    "    \n",
    "    pipeline = Pipeline([\n",
    "        ('Preprocessor',preprocessor),    \n",
    "        ('Regressor',model)\n",
    "    ])\n",
    "    \n",
    "    \n",
    "    cv = KFold(n_splits=n, shuffle=True, random_state=1)\n",
    "    # evaluate the pipeline using cross validation and calculate MAE\n",
    "    scores = cross_val_score(pipeline, X_train, y_train, scoring='r2', cv=cv, n_jobs=-1)\n",
    "    # summarize the model performance\n",
    "    print('Train Mean R2 Score:', round(np.mean(scores),2))"
   ]
  },
  {
   "cell_type": "code",
   "execution_count": null,
   "id": "130a2d1e",
   "metadata": {},
   "outputs": [],
   "source": [
    "train_cross_val(lr,10)\n",
    "train_cross_val(dt,10)\n",
    "train_cross_val(rf,10)"
   ]
  }
 ],
 "metadata": {
  "kernelspec": {
   "display_name": "Python 3 (ipykernel)",
   "language": "python",
   "name": "python3"
  },
  "language_info": {
   "codemirror_mode": {
    "name": "ipython",
    "version": 3
   },
   "file_extension": ".py",
   "mimetype": "text/x-python",
   "name": "python",
   "nbconvert_exporter": "python",
   "pygments_lexer": "ipython3",
   "version": "3.9.16"
  }
 },
 "nbformat": 4,
 "nbformat_minor": 5
}
